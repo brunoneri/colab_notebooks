{
  "nbformat": 4,
  "nbformat_minor": 0,
  "metadata": {
    "colab": {
      "provenance": [],
      "authorship_tag": "ABX9TyNrpzyKfpfTF89rRL2sKIUu",
      "include_colab_link": true
    },
    "kernelspec": {
      "name": "python3",
      "display_name": "Python 3"
    },
    "language_info": {
      "name": "python"
    },
    "accelerator": "GPU",
    "gpuClass": "standard"
  },
  "cells": [
    {
      "cell_type": "markdown",
      "metadata": {
        "id": "view-in-github",
        "colab_type": "text"
      },
      "source": [
        "<a href=\"https://colab.research.google.com/github/brunoneri/colab_notebooks/blob/main/Node_Classification_and_GNNExplainer_with_Pytorch_Lightning.ipynb\" target=\"_parent\"><img src=\"https://colab.research.google.com/assets/colab-badge.svg\" alt=\"Open In Colab\"/></a>"
      ]
    },
    {
      "cell_type": "code",
      "execution_count": null,
      "metadata": {
        "id": "852DWp6Bejds"
      },
      "outputs": [],
      "source": [
        "# Install required packages.\n",
        "import os\n",
        "import torch\n",
        "os.environ['TORCH'] = torch.__version__\n",
        "print(torch.__version__)\n",
        "\n",
        "!pip install -q torch-scatter -f https://data.pyg.org/whl/torch-${TORCH}.html\n",
        "!pip install -q torch-sparse -f https://data.pyg.org/whl/torch-${TORCH}.html\n",
        "!pip install -q git+https://github.com/pyg-team/pytorch_geometric.git\n",
        "\n",
        "!pip install pytorch_lightning\n",
        "\n",
        "# Helper function for visualization.\n",
        "%matplotlib inline\n",
        "import matplotlib.pyplot as plt\n",
        "from sklearn.manifold import TSNE\n",
        "\n",
        "import torch\n",
        "from torch import nn\n",
        "from torch.nn import functional as F\n",
        "\n",
        "\n",
        "import pytorch_lightning as pl\n",
        "print(pl.__version__)\n",
        "\n",
        "\n",
        "device = torch.device(\"cuda:0\") if torch.cuda.is_available() else torch.device(\"cpu\")\n",
        "print(device)\n",
        "\n",
        "def visualize(h, color):\n",
        "    z = TSNE(n_components=2).fit_transform(h.detach().cpu().numpy())\n",
        "\n",
        "    plt.figure(figsize=(10,10))\n",
        "    plt.xticks([])\n",
        "    plt.yticks([])\n",
        "\n",
        "    plt.scatter(z[:, 0], z[:, 1], s=70, c=color, cmap=\"Set2\")\n",
        "    plt.show()"
      ]
    },
    {
      "cell_type": "code",
      "source": [
        "from torch_geometric.datasets import Planetoid\n",
        "from torch_geometric.transforms import NormalizeFeatures\n",
        "import torch_geometric.loader as geom_data\n",
        "\n",
        "pl.seed_everything(1234567)\n",
        "\n",
        "dataset = Planetoid(root='data/Planetoid', name='Cora', transform=NormalizeFeatures())\n",
        "\n",
        "print()\n",
        "print(f'Dataset: {dataset}:')\n",
        "print('======================')\n",
        "print(f'Number of graphs: {len(dataset)}')\n",
        "print(f'Number of features: {dataset.num_features}')\n",
        "print(f'Number of classes: {dataset.num_classes}')\n",
        "\n",
        "data = dataset[0]  # Get the first graph object.\n",
        "\n",
        "print()\n",
        "print(data)\n",
        "print('===========================================================================================================')\n",
        "\n",
        "# Gather some statistics about the graph.\n",
        "print(f'Number of nodes: {data.num_nodes}')\n",
        "print(f'Number of edges: {data.num_edges}')\n",
        "print(f'Average node degree: {data.num_edges / data.num_nodes:.2f}')\n",
        "print(f'Number of training nodes: {data.train_mask.sum()}')\n",
        "print(f'Training node label rate: {int(data.train_mask.sum()) / data.num_nodes:.2f}')\n",
        "print(f'Has isolated nodes: {data.has_isolated_nodes()}')\n",
        "print(f'Has self-loops: {data.has_self_loops()}')\n",
        "print(f'Is undirected: {data.is_undirected()}')"
      ],
      "metadata": {
        "id": "sz7TMzb2e1dh"
      },
      "execution_count": null,
      "outputs": []
    },
    {
      "cell_type": "code",
      "source": [
        "from torch_geometric.nn import GCNConv\n",
        "\n",
        "#Reference: https://arxiv.org/abs/1609.02907\n",
        "\n",
        "class GCN(pl.LightningModule):\n",
        "    def __init__(self, num_features,num_classes, hidden_channels):\n",
        "        super().__init__()       \n",
        "        self.conv1 = GCNConv(num_features, hidden_channels)\n",
        "        self.conv2 = GCNConv(hidden_channels,num_classes)\n",
        "\n",
        "    def forward(self, x, edge_index):\n",
        "        x = self.conv1(x, edge_index)\n",
        "        x = F.relu(x)\n",
        "        x = F.dropout(x, p=0.5,training=self.training)\n",
        "        x = self.conv2(x, edge_index)\n",
        "        return x\n",
        "\n",
        "    def configure_optimizers(self):\n",
        "        optimizer = torch.optim.Adam(self.parameters(), lr=0.01, weight_decay=5e-4)\n",
        "        return  optimizer\n",
        "\n",
        "    def training_step(self, batch, idx):\n",
        "        out = self.forward( batch.x,batch.edge_index)\n",
        "        loss = nn.CrossEntropyLoss()(out[batch.train_mask], batch.y[batch.train_mask] )\n",
        "        pred = out.argmax(dim=1)  \n",
        "        train_correct = pred[batch.train_mask] == batch.y[batch.train_mask]  \n",
        "        train_acc = int(train_correct.sum()) / int(batch.train_mask.sum())  \n",
        "        self.log('train_acc', train_acc,on_step=True, on_epoch=False)\n",
        "        self.log('train_loss', loss)\n",
        "        return loss\n",
        "    \n",
        "    def validation_step(self, batch, idx):\n",
        "        out = self.forward( batch.x,batch.edge_index)\n",
        "        loss = nn.CrossEntropyLoss()( out[batch.val_mask], batch.y[batch.val_mask] )\n",
        "        self.log('val_loss', loss)\n",
        "        pred = out.argmax(dim=1)  \n",
        "        val_correct = pred[batch.val_mask] == batch.y[batch.val_mask]  \n",
        "        val_acc = int(val_correct.sum()) / int(batch.val_mask.sum())  \n",
        "        self.log('val_acc', val_acc,on_step=False, on_epoch=True)\n",
        "        return {'val_acc':val_acc}\n",
        "    \n",
        "    def test_step(self, batch, idx): \n",
        "        out = self.forward( batch.x,batch.edge_index)\n",
        "        pred = out.argmax(dim=1)  \n",
        "        test_correct = pred[batch.test_mask] == batch.y[batch.test_mask]  \n",
        "        test_acc = int(test_correct.sum()) / int(batch.test_mask.sum())  \n",
        "        self.log('test_acc', test_acc)\n",
        "        return {'test_acc':test_acc}"
      ],
      "metadata": {
        "id": "YCnO0GZDg2aW"
      },
      "execution_count": null,
      "outputs": []
    },
    {
      "cell_type": "code",
      "source": [
        "# model\n",
        "model = GCN(dataset.num_features, dataset.num_classes,hidden_channels=16)\n",
        "model.eval()\n",
        "\n",
        "out = model(data.x, data.edge_index)\n",
        "visualize(out, color=data.y)"
      ],
      "metadata": {
        "id": "-8tdRhV4Wm7j"
      },
      "execution_count": null,
      "outputs": []
    },
    {
      "cell_type": "code",
      "source": [
        "# data\n",
        "graphdata = geom_data.DataLoader(dataset)\n",
        "\n",
        "# training\n",
        "trainer = pl.Trainer(accelerator='gpu' if str(device).startswith(\"cuda\") else 'cpu', \n",
        "                     max_epochs=101)\n",
        "\n",
        "trainer.fit(model, graphdata,graphdata)\n",
        "\n",
        "test=trainer.test(model,graphdata)\n",
        "\n",
        "\n",
        "print(f'Accuracy: {test[0][\"test_acc\"]:.4f}')"
      ],
      "metadata": {
        "id": "UWZmRWHqp-Fs"
      },
      "execution_count": null,
      "outputs": []
    },
    {
      "cell_type": "code",
      "source": [
        "model.eval()\n",
        "\n",
        "out = model(data.x, data.edge_index)\n",
        "visualize(out, color=data.y)"
      ],
      "metadata": {
        "id": "78Wnr3ykW6Ys"
      },
      "execution_count": null,
      "outputs": []
    },
    {
      "cell_type": "code",
      "source": [
        "# Reference: https://arxiv.org/abs/1903.03894\n",
        "\n",
        "from torch_geometric.explain import Explainer, GNNExplainer\n",
        "node_idx = 87\n",
        "x, edge_index = data.x, data.edge_index\n",
        "explainer = Explainer(\n",
        "    model=model,\n",
        "    algorithm=GNNExplainer(epochs=200),\n",
        "     explanation_type='model',\n",
        "    node_mask_type='attributes',\n",
        "    edge_mask_type='object',\n",
        "    model_config=dict(\n",
        "        mode='multiclass_classification',\n",
        "        task_level='node',\n",
        "        return_type='probs',  # Model returns log probabilities.\n",
        "    ),\n",
        ")\n",
        "explanation = explainer(x, edge_index, index=node_idx)\n"
      ],
      "metadata": {
        "id": "9m2eP9Oe1TWi"
      },
      "execution_count": null,
      "outputs": []
    },
    {
      "cell_type": "code",
      "source": [
        "explanation.visualize_graph(backend=\"networkx\")"
      ],
      "metadata": {
        "id": "gGtX7hG51YsA"
      },
      "execution_count": null,
      "outputs": []
    }
  ]
}